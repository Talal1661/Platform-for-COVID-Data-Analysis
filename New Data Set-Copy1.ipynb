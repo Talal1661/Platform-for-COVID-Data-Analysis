{
 "cells": [
  {
   "cell_type": "code",
   "execution_count": 1,
   "id": "f2d944a3",
   "metadata": {},
   "outputs": [],
   "source": [
    "import colorama\n",
    "import pandas as pd\n",
    "import numpy as np\n",
    "import matplotlib.pyplot as plt\n",
    "from scipy import stats\n",
    "from sklearn import linear_model\n",
    "import math\n",
    "\n",
    "import io\n",
    "from io import StringIO\n",
    "import requests\n",
    "\n",
    "import plotly\n",
    "import plotly.express as px\n",
    "\n",
    "import dash\n",
    "from dash import dcc\n",
    "from dash import html\n",
    "import dash_bootstrap_components as dbc\n",
    "from dash.dependencies import Input, Output\n",
    "\n",
    "\n",
    "import plotly.graph_objs as go\n",
    "\n",
    "from plotly.subplots import make_subplots\n",
    "\n",
    "from sklearn.linear_model import LinearRegression\n",
    "from sklearn.preprocessing import PolynomialFeatures\n",
    "from sklearn.metrics import mean_squared_error\n",
    "import datetime"
   ]
  },
  {
   "cell_type": "code",
   "execution_count": 2,
   "id": "5272793e",
   "metadata": {},
   "outputs": [
    {
     "name": "stderr",
     "output_type": "stream",
     "text": [
      "C:\\Users\\dell\\anaconda3\\lib\\site-packages\\IPython\\core\\interactiveshell.py:3165: DtypeWarning: Columns (3,4,5) have mixed types.Specify dtype option on import or set low_memory=False.\n",
      "  has_raised = await self.run_ast_nodes(code_ast.body, cell_name,\n"
     ]
    }
   ],
   "source": [
    "Covid19 = pd.read_csv('https://raw.githubusercontent.com/owid/covid-19-data/master/public/data/owid-covid-data.csv')\n",
    "Mobility = pd.read_csv('https://www.gstatic.com/covid19/mobility/Global_Mobility_Report.csv?cachebust=2dcf78defb92930a')"
   ]
  },
  {
   "cell_type": "code",
   "execution_count": 4,
   "id": "6d5d6f4d",
   "metadata": {},
   "outputs": [],
   "source": [
    "Covid19['Concatenate'] = Covid19.date + Covid19.location"
   ]
  },
  {
   "cell_type": "code",
   "execution_count": 5,
   "id": "1699db2f",
   "metadata": {},
   "outputs": [],
   "source": [
    "Mobility['Concatenate'] = Mobility.date + Mobility.country_region"
   ]
  },
  {
   "cell_type": "code",
   "execution_count": 6,
   "id": "df6200c7",
   "metadata": {},
   "outputs": [],
   "source": [
    "df = pd.merge(Covid19, Mobility)"
   ]
  },
  {
   "cell_type": "code",
   "execution_count": 7,
   "id": "6c922326",
   "metadata": {},
   "outputs": [],
   "source": [
    "df_updated = df[['date', 'continent', 'location', 'total_cases', 'new_cases', 'total_deaths', 'new_deaths', 'total_cases_per_million', 'new_cases_per_million', 'hosp_patients', 'weekly_icu_admissions', 'grocery_and_pharmacy_percent_change_from_baseline', 'transit_stations_percent_change_from_baseline', 'workplaces_percent_change_from_baseline']]"
   ]
  },
  {
   "cell_type": "code",
   "execution_count": 8,
   "id": "360df74f",
   "metadata": {
    "scrolled": true
   },
   "outputs": [
    {
     "name": "stdout",
     "output_type": "stream",
     "text": [
      "<class 'pandas.core.frame.DataFrame'>\n",
      "Int64Index: 7793376 entries, 0 to 7793375\n",
      "Data columns (total 14 columns):\n",
      " #   Column                                             Dtype  \n",
      "---  ------                                             -----  \n",
      " 0   date                                               object \n",
      " 1   continent                                          object \n",
      " 2   location                                           object \n",
      " 3   total_cases                                        float64\n",
      " 4   new_cases                                          float64\n",
      " 5   total_deaths                                       float64\n",
      " 6   new_deaths                                         float64\n",
      " 7   total_cases_per_million                            float64\n",
      " 8   new_cases_per_million                              float64\n",
      " 9   hosp_patients                                      float64\n",
      " 10  weekly_icu_admissions                              float64\n",
      " 11  grocery_and_pharmacy_percent_change_from_baseline  float64\n",
      " 12  transit_stations_percent_change_from_baseline      float64\n",
      " 13  workplaces_percent_change_from_baseline            float64\n",
      "dtypes: float64(11), object(3)\n",
      "memory usage: 891.9+ MB\n"
     ]
    }
   ],
   "source": [
    "df_updated.info()"
   ]
  },
  {
   "cell_type": "code",
   "execution_count": 11,
   "id": "af8e3dd6",
   "metadata": {},
   "outputs": [
    {
     "name": "stdout",
     "output_type": "stream",
     "text": [
      "Dash is running on http://127.0.0.1:8050/\n",
      "\n",
      "Dash is running on http://127.0.0.1:8050/\n",
      "\n",
      "Dash is running on http://127.0.0.1:8050/\n",
      "\n",
      " * Serving Flask app \"__main__\" (lazy loading)\n",
      " * Environment: production\n",
      "   WARNING: This is a development server. Do not use it in a production deployment.\n",
      "   Use a production WSGI server instead.\n",
      " * Debug mode: off\n"
     ]
    },
    {
     "name": "stderr",
     "output_type": "stream",
     "text": [
      " * Running on http://127.0.0.1:8050/ (Press CTRL+C to quit)\n",
      "127.0.0.1 - - [10/Dec/2021 09:47:22] \"\u001b[37mGET / HTTP/1.1\u001b[0m\" 200 -\n",
      "127.0.0.1 - - [10/Dec/2021 09:47:23] \"\u001b[37mGET /_dash-layout HTTP/1.1\u001b[0m\" 200 -\n",
      "127.0.0.1 - - [10/Dec/2021 09:47:23] \"\u001b[37mGET /_dash-dependencies HTTP/1.1\u001b[0m\" 200 -\n",
      "127.0.0.1 - - [10/Dec/2021 09:47:23] \"\u001b[37mGET /_dash-component-suites/dash/dcc/async-dropdown.js HTTP/1.1\u001b[0m\" 200 -\n",
      "127.0.0.1 - - [10/Dec/2021 09:47:23] \"\u001b[37mGET /_dash-component-suites/dash/dcc/async-graph.js HTTP/1.1\u001b[0m\" 200 -\n",
      "127.0.0.1 - - [10/Dec/2021 09:47:23] \"\u001b[37mGET /_dash-component-suites/dash/dcc/async-plotlyjs.js HTTP/1.1\u001b[0m\" 200 -\n",
      "127.0.0.1 - - [10/Dec/2021 09:47:24] \"\u001b[37mPOST /_dash-update-component HTTP/1.1\u001b[0m\" 200 -\n",
      "127.0.0.1 - - [10/Dec/2021 09:47:39] \"\u001b[37mPOST /_dash-update-component HTTP/1.1\u001b[0m\" 200 -\n",
      "127.0.0.1 - - [10/Dec/2021 09:47:59] \"\u001b[37mPOST /_dash-update-component HTTP/1.1\u001b[0m\" 200 -\n"
     ]
    }
   ],
   "source": [
    "app = dash.Dash(__name__,external_stylesheets=[dbc.themes.BOOTSTRAP])\n",
    "\n",
    "app.layout = html.Div(children=[\n",
    "    dbc.Row(dbc.Col(html.H1(children='COVID-19 Comparison with Additional Data Set'),\n",
    "                    width={'size' : 12, 'offset': 3}\n",
    "                    )\n",
    "            ),\n",
    "    dbc.Row(\n",
    "        [\n",
    "        dbc.Col(dcc.Dropdown(id='geo-dropdown', placeholder='Select Country',\n",
    "                             options=[{'label': i, 'value': i}\n",
    "                                      for i in df_updated['location'].unique()],\n",
    "                             value='Norway'),\n",
    "                \n",
    "                \n",
    "                    width={'size':3,'offset':0, 'order':1}\n",
    "\n",
    "            ),\n",
    "        dbc.Col(dcc.Dropdown(id='Y_Axis',placeholder='Select Y-axis',\n",
    "                 options=[\n",
    "                     {'label': 'Dates', 'value': 'date'},\n",
    "                     {'label': 'Total Cases', 'value': 'total_cases'},\n",
    "                     {'label': 'New Cases', 'value': 'new_cases'},\n",
    "                     {'label': 'Total Deaths', 'value': 'total_deaths'},\n",
    "                     {'label': 'New Deaths', 'value': 'new_deaths'},\n",
    "                     {'label': 'Mobility to Market', 'value': 'grocery_and_pharmacy_percent_change_from_baseline'},\n",
    "                     {'label': 'Mobility to Transit Stations', 'value': 'transit_stations_percent_change_from_baseline'},\n",
    "                     {'label': 'Mobility to Work Place', 'value': 'workplaces_percent_change_from_baseline'}\n",
    "                 ],\n",
    "                 value='total_cases'),\n",
    "                width={'size': 3, 'offset': 0, 'order': 2}\n",
    "            ),\n",
    "            \n",
    "        ],\n",
    "    ),\n",
    "    dcc.Graph(id='price-graph'),\n",
    "])\n",
    "\n",
    "@app.callback(\n",
    "    Output(component_id='price-graph', component_property='figure'),\n",
    "    [Input(component_id='geo-dropdown', component_property='value'),\n",
    "     Input(component_id='Y_Axis', component_property='value')]\n",
    ")\n",
    "\n",
    "def update_graph(selected_country, Y_Axis):\n",
    "    filtered_data = df_updated[df_updated['location'] == selected_country]\n",
    "    fig = px.bar(filtered_data,\n",
    "                       x='date', y= Y_Axis,\n",
    "                       title=f'{Y_Axis} in {selected_country}')\n",
    "    return fig\n",
    "\n",
    "if __name__ == '__main__':\n",
    "    app.run_server(debug=False)\n"
   ]
  },
  {
   "cell_type": "code",
   "execution_count": null,
   "id": "77cab5e8",
   "metadata": {},
   "outputs": [],
   "source": []
  }
 ],
 "metadata": {
  "kernelspec": {
   "display_name": "Python 3",
   "language": "python",
   "name": "python3"
  },
  "language_info": {
   "codemirror_mode": {
    "name": "ipython",
    "version": 3
   },
   "file_extension": ".py",
   "mimetype": "text/x-python",
   "name": "python",
   "nbconvert_exporter": "python",
   "pygments_lexer": "ipython3",
   "version": "3.8.8"
  }
 },
 "nbformat": 4,
 "nbformat_minor": 5
}
